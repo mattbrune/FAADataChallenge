{
 "cells": [
  {
   "attachments": {},
   "cell_type": "markdown",
   "metadata": {},
   "source": [
    "# Helper Functions for Taxi Time Optimization\n",
    "### FAA Student Data Challenge\n",
    "\n",
    "## Matt Brune, Duke University"
   ]
  },
  {
   "cell_type": "markdown",
   "metadata": {},
   "source": [
    "**Runway End Function**\n",
    "\n",
    "Returns runway threshold end for operation given operation type and runway"
   ]
  },
  {
   "cell_type": "code",
   "execution_count": 4,
   "metadata": {},
   "outputs": [],
   "source": [
    "#corrects runway threshold for taxi distance on arrivals\n",
    "def runway_end(runway, op):\n",
    "    if (\"L\" in runway) | (\"R\" in runway):\n",
    "        ogLetter = runway[-1]\n",
    "        runway = runway[:-1]\n",
    "        if ogLetter == \"L\":\n",
    "            letter = \"R\"\n",
    "        else:\n",
    "            letter = \"L\"\n",
    "    else:\n",
    "        letter=\"\"\n",
    "    if op == \"Arrival\":\n",
    "        if int(runway) > 18:\n",
    "            otherEnd = int(runway) - 18\n",
    "        else:\n",
    "            otherEnd = int(runway) + 18\n",
    "    else:\n",
    "        otherEnd = int(runway)\n",
    "    end = str(otherEnd)+letter\n",
    "    return end"
   ]
  },
  {
   "attachments": {},
   "cell_type": "markdown",
   "metadata": {},
   "source": [
    "**Data Cleaning Function**\n",
    "\n",
    "Returns x, y from Aerobahn monthly csv"
   ]
  },
  {
   "cell_type": "code",
   "execution_count": 3,
   "metadata": {},
   "outputs": [],
   "source": [
    "def taxi_time_clean(month, gateLookup, taxiDist, weatherLookup):\n",
    "   # this function passes in a pd.DataFrame of a given month-long Aerobahn csv file and airport specific lookups for gating, taxi distances, and weather\n",
    "   # it returns two dataframes: the predictor variables, and the taxi time target variable\n",
    "\n",
    "   #filters to only relevant columns (for computation time reduction), and only arr and dep ops\n",
    "   month[[\"Operation\", \"Gate\", \"Runway\", \"Actual Off Block Time (Aerobahn)\", \"Actual Take Off Time (Aerobahn)\", \"Actual Landing Time (Aerobahn)\", \"Actual In Block Time (Aerobahn)\"]]\n",
    "   month = month[(month[\"Operation\"]==\"Arrival\") | (month[\"Operation\"]==\"Departure\")]\n",
    "\n",
    "   #convert to timestamps\n",
    "   dateCols = [\"Actual Off Block Time (Aerobahn)\", \"Actual Take Off Time (Aerobahn)\", \"Actual Landing Time (Aerobahn)\", \"Actual In Block Time (Aerobahn)\"]\n",
    "   for i in dateCols:\n",
    "      month[i] = month[i].apply(pd.to_datetime)\n",
    "\n",
    "   #lookups\n",
    "   GateLookupDict = dict(zip(gateLookup['Aerobahn Gate Label'], gateLookup['Terminal']))\n",
    "   month[\"Gate Category\"] = month[\"Gate\"].map(GateLookupDict)\n",
    "   month[\"GR Code\"] = month[\"Gate Category\"]+\"_\"+month[\"Runway\"]\n",
    "   TotDistDict = dict(zip(taxiDist['GR Code'], taxiDist['Tot Dist']))\n",
    "   AngleSumDict = dict(zip(taxiDist['GR Code'], taxiDist['Angle Sum']))\n",
    "   month[\"Distance\"] = month[\"GR Code\"].map(TotDistDict)\n",
    "   month[\"Angle Sum\"] = month[\"GR Code\"].map(AngleSumDict)\n",
    "\n",
    "   month[\"Hour\"] = \"\"\n",
    "   month[\"MDH Code\"] = \"\"\n",
    "   for i in range(len(month[\"Operation\"])):\n",
    "      if month[\"Operation\"].iloc[i] == \"Departure\":\n",
    "         timeRef = month[\"Actual Off Block Time (Aerobahn)\"].iloc[i]\n",
    "         month[\"Hour\"].iloc[i] = str(timeRef.hour)\n",
    "         month[\"MDH Code\"].iloc[i] = str(timeRef.month)+\"-\"+str(timeRef.day)+\"-\"+str(timeRef.hour)\n",
    "      else:\n",
    "         timeRef = month[\"Actual Landing Time (Aerobahn)\"].iloc[i]\n",
    "         month[\"Hour\"].iloc[i] = str(timeRef.hour)\n",
    "         month[\"MDH Code\"].iloc[i] = str(timeRef.month)+\"-\"+str(timeRef.day)+\"-\"+str(timeRef.hour)\n",
    "   month = month.loc[month[\"Hour\"] != 'nan']\n",
    "\n",
    "   TempDict = dict(zip(weatherLookup['MDH'], weatherLookup['Temp']))\n",
    "   WindSpeedDict = dict(zip(weatherLookup['MDH'], weatherLookup['WindSpeed']))\n",
    "   VisibilityDict = dict(zip(weatherLookup['MDH'], weatherLookup['Visibility']))\n",
    "   month[\"Temperature\"] = month[\"MDH Code\"].map(TempDict)\n",
    "   month[\"Wind Speed\"] = month[\"MDH Code\"].map(WindSpeedDict)\n",
    "   month[\"Visibility\"] = month[\"MDH Code\"].map(VisibilityDict)\n",
    "\n",
    "\n",
    "   #filter to only include  valid gate assignments\n",
    "   month = month[month[\"Distance\"].notna()]\n",
    "\n",
    "   \n",
    "\n",
    "   ## instantiating rest of predictor variables\n",
    "\n",
    "   #indicator predictor variable\n",
    "   month[\"Departure_Indicator\"] = [1 if i==\"Departure\" else 0 for i in month[\"Operation\"]]\n",
    "   \n",
    "\n",
    "   #ARR predictor variables & target\n",
    "   month[\"nArrOut\"] = [len(month[(month[\"Operation\"]==\"Arrival\") & (month[\"Actual Off Block Time (Aerobahn)\"]<i) & (month[\"Actual Take Off Time (Aerobahn)\"]>i)]) for i in month[\"Actual Landing Time (Aerobahn)\"]]\n",
    "   month[\"nArrIn\"] = [len(month[(month[\"Operation\"]==\"Arrival\") & (month[\"Actual Landing Time (Aerobahn)\"]<i) & (month[\"Actual In Block Time (Aerobahn)\"]>i)]) for i in month[\"Actual Landing Time (Aerobahn)\"]]\n",
    "   month[\"Taxi In\"] = month[\"Actual In Block Time (Aerobahn)\"] - month[\"Actual Landing Time (Aerobahn)\"]\n",
    "\n",
    "   #DEP predictor variables & target\n",
    "   month[\"nDepOut\"] = [len(month[(month[\"Operation\"]==\"Departure\") & (month[\"Actual Off Block Time (Aerobahn)\"]<i) & (month[\"Actual Take Off Time (Aerobahn)\"]>i)]) for i in month[\"Actual Off Block Time (Aerobahn)\"]]\n",
    "   month[\"nDepIn\"] = [len(month[(month[\"Operation\"]==\"Departure\") & (month[\"Actual Landing Time (Aerobahn)\"]<i) & (month[\"Actual In Block Time (Aerobahn)\"]>i)]) for i in month[\"Actual Off Block Time (Aerobahn)\"]]\n",
    "   month[\"Taxi Out\"] = month[\"Actual Take Off Time (Aerobahn)\"] - month[\"Actual Off Block Time (Aerobahn)\"]\n",
    "\n",
    "   #total taxi time\n",
    "   month[\"Taxi Time\"] = \"\"\n",
    "   for i in range(len(month[\"Operation\"])):\n",
    "      month[\"Runway\"].iloc[i] = runway_end(month[\"Runway\"].iloc[i], month[\"Operation\"].iloc[i])\n",
    "      if month[\"Operation\"].iloc[i]==\"Departure\":\n",
    "         month[\"Taxi Time\"].iloc[i] = month[\"Taxi Out\"].iloc[i]\n",
    "      else:\n",
    "         month[\"Taxi Time\"].iloc[i] = month[\"Taxi In\"].iloc[i]\n",
    "   month[\"Taxi Time\"] = month[\"Taxi Time\"]/pd.to_timedelta(1, unit=\"min\")\n",
    "\n",
    "   #REDUCE to just indicator variables & targets\n",
    "   x = month[[\"Departure_Indicator\", \"Distance\", \"Angle Sum\", \"nArrOut\", \"nArrIn\", \"nDepOut\", \"nDepIn\", \"Temperature\", \"Wind Speed\", \"Visibility\"]]\n",
    "   y = month[\"Taxi Time\"]\n",
    "\n",
    "   return x, y"
   ]
  },
  {
   "attachments": {},
   "cell_type": "markdown",
   "metadata": {},
   "source": [
    "**Scaling Function**\n",
    "\n",
    "Given a dataframe of x samples, returns a dataframe with min-max scaling"
   ]
  },
  {
   "cell_type": "code",
   "execution_count": 7,
   "metadata": {},
   "outputs": [],
   "source": [
    "#normalizing data\n",
    "def data_scaler(x):\n",
    "    mmScaler = preprocessing.MinMaxScaler()\n",
    "    mmScaler.fit(x)\n",
    "    x = mmScaler.transform(x)\n",
    "    x = pd.DataFrame(x, columns=[\"Departure_Indicator\", \"Distance\", \"Angle Sum\", \"nArrOut\", \"nArrIn\", \"nDepOut\", \"nDepIn\", \"Temperature\", \"Wind Speed\", \"Visibility\"])\n",
    "    return x"
   ]
  },
  {
   "attachments": {},
   "cell_type": "markdown",
   "metadata": {},
   "source": [
    "**Metric Computation Function**\n",
    "\n",
    "Given a model, x and y samples, and a cross-validation, outputs $R^{2}$ and RMSE"
   ]
  },
  {
   "cell_type": "code",
   "execution_count": 1,
   "metadata": {},
   "outputs": [],
   "source": [
    "def metric_disp(model, x, y, crossval):\n",
    "    R2 = np.mean(cross_val_score(model, x, y, scoring=None, cv=crossval))\n",
    "    RMSE = np.mean(np.sqrt(np.abs(cross_val_score(model, x, y, scoring = 'neg_mean_squared_error', cv = crossval))))\n",
    "    return R2, RMSE"
   ]
  },
  {
   "attachments": {},
   "cell_type": "markdown",
   "metadata": {},
   "source": [
    "**Model Selection Results Function**\n",
    "\n",
    "Given a list of models, x and y samples, and a cross validation, outputs $R^{2}$ and RMSE for each model"
   ]
  },
  {
   "cell_type": "code",
   "execution_count": 9,
   "metadata": {},
   "outputs": [],
   "source": [
    "def model_selection_results(models, x, y, crossval):\n",
    "    file1 = open(\"IAHresults.txt\",\"w\")\n",
    "    for i in models:\n",
    "        r2, rmse = metric_disp(i, x, y, crossval)\n",
    "        file1.write(\"For the {} model: \\n R^2: {} \\n RMSE: {} \\n\".format(i, r2, rmse))\n",
    "    file1.close()"
   ]
  },
  {
   "cell_type": "code",
   "execution_count": 56,
   "metadata": {},
   "outputs": [],
   "source": [
    "def model2Q_selection_results(models, x, y, crossval):\n",
    "    file1 = open(\"IAH2Qresults.txt\",\"w\")\n",
    "    for i in models:\n",
    "        r2, rmse = metric_disp(i, x, y, crossval)\n",
    "        file1.write(\"For the {} model: \\n R^2: {} \\n RMSE: {} \\n\".format(i, r2, rmse))\n",
    "    file1.close()"
   ]
  },
  {
   "attachments": {},
   "cell_type": "markdown",
   "metadata": {},
   "source": [
    "**June 2022 Testing Results Function**\n",
    "\n",
    "Given the list of tuned models, x and y samples for "
   ]
  },
  {
   "cell_type": "code",
   "execution_count": 7,
   "metadata": {},
   "outputs": [],
   "source": [
    "def june22_results(models, xTrain, yTrain, xTestEWR, yTestEWR, xTestIAH, yTestIAH):\n",
    "    file2 = open(\"June2022Results.txt\", \"w\")\n",
    "    for i in models:\n",
    "        file2.write(\"Newark {}: \\n\".format(i))\n",
    "        file2.write(\"R^2: {} \\n\".format(i.fit(xTrain, yTrain).score(xTestEWR, yTestEWR)))\n",
    "        file2.write(\"RMSE: {} \\n\".format(np.sqrt(mean_squared_error(i.predict(xTestEWR),yTestEWR))))\n",
    "        file2.write(\"Houston {} \\n\".format(i))\n",
    "        file2.write(\"R^2: {} \\n\".format(i.fit(xTrain, yTrain).score(xTestIAH, yTestIAH)))\n",
    "        file2.write(\"RMSE: {} \\n\".format(np.sqrt(mean_squared_error(i.predict(xTestIAH),yTestIAH))))\n",
    "    file2.close()"
   ]
  },
  {
   "cell_type": "code",
   "execution_count": 52,
   "metadata": {},
   "outputs": [],
   "source": [
    "def june22_2Qresults(models, xTrain, yTrain, xTestEWR, yTestEWR, xTestIAH, yTestIAH):\n",
    "    file2 = open(\"June2022_2QResults.txt\", \"w\")\n",
    "    for i in models:\n",
    "        file2.write(\"Newark {}: \\n\".format(i))\n",
    "        file2.write(\"R^2: {} \\n\".format(i.fit(xTrain, yTrain).score(xTestEWR, yTestEWR)))\n",
    "        file2.write(\"RMSE: {} \\n\".format(np.sqrt(mean_squared_error(i.predict(xTestEWR),yTestEWR))))\n",
    "        file2.write(\"Houston {} \\n\".format(i))\n",
    "        file2.write(\"R^2: {} \\n\".format(i.fit(xTrain, yTrain).score(xTestIAH, yTestIAH)))\n",
    "        file2.write(\"RMSE: {} \\n\".format(np.sqrt(mean_squared_error(i.predict(xTestIAH),yTestIAH))))\n",
    "    file2.close()"
   ]
  },
  {
   "attachments": {},
   "cell_type": "markdown",
   "metadata": {},
   "source": [
    "**Departure Runway Processing Time Lookup Function**\n",
    "\n",
    "Given the airport and meteorological conditions, returns runway processing time for *entire* runway system"
   ]
  },
  {
   "cell_type": "code",
   "execution_count": 53,
   "metadata": {},
   "outputs": [],
   "source": [
    "def dep_rpt_lookup(airport, mc, priority=None):\n",
    "    if airport == \"IAH\":\n",
    "        if mc == \"Visual\":\n",
    "            return 60*2/64\n",
    "        elif mc == \"Marginal\":\n",
    "            return 60*2/64\n",
    "        elif mc == \"Instrument\":\n",
    "            return 60*2/64\n",
    "        else:\n",
    "            return \"Invalid input: ensure airport code is in IATA format, meteorological conditions are one of [Visual, Marginal, Instrument], and priority is one of [Departures, Arrivals]\"\n",
    "    elif airport == \"EWR\":\n",
    "        if (mc == \"Visual\") & (priority==\"Departures\"):\n",
    "            return 60*2/52\n",
    "        elif mc == \"Visual\" & priority==\"Arrivals\":\n",
    "            return 60/42\n",
    "        elif mc == \"Marginal\":\n",
    "            return 60/42\n",
    "        elif mc == \"Instrument\":\n",
    "            return 60/34\n",
    "        else:\n",
    "            return \"Invalid input: ensure airport code is in IATA format, meteorological conditions are one of [Visual, Marginal, Instrument], and priority is one of [Departures, Arrivals]\"\n",
    "    else:\n",
    "        return \"Invalid input: ensure airport code is in IATA format, meteorological conditions are one of [Visual, Marginal, Instrument], and priority is one of [Departures, Arrivals]\"\n"
   ]
  },
  {
   "attachments": {},
   "cell_type": "markdown",
   "metadata": {},
   "source": [
    "**Runway Processing Time Transform**\n",
    "\n",
    "Given an airport, meteorological conditions, an optional focus for EWR, and the x and y-values, returns the \"2Q\" taxi times from the total taxi-out times."
   ]
  },
  {
   "cell_type": "code",
   "execution_count": 77,
   "metadata": {},
   "outputs": [],
   "source": [
    "def rpt_transform(airportcode, conditions, x, y, focus=None):\n",
    "    #find runway processing times\n",
    "    rpt = dep_rpt_lookup(airportcode, conditions, focus)\n",
    "    qRed = 1\n",
    "    y2 = y.copy()\n",
    "\n",
    "    for i in x.index:\n",
    "    #determine queue length in front of aircraft pushing back\n",
    "        qt = max(0, rpt*qRed*x.loc[i, \"nDepOut\"] - (x.loc[i, \"Distance\"] / 1519))\n",
    "    #subtract out from taxi times\n",
    "        y2.loc[i] = max(1, y2.loc[i]-qt)\n",
    "    \n",
    "    rptLog = np.log(y2)\n",
    "    \n",
    "    return rptLog"
   ]
  },
  {
   "attachments": {},
   "cell_type": "markdown",
   "metadata": {},
   "source": [
    "**Cost Function Plotting**\n",
    "\n",
    "Given the cost type, slope, a scale factor, the x-values, and the optimal pushback policy, returns y-values for plotting on newsvendor plot"
   ]
  },
  {
   "cell_type": "code",
   "execution_count": 78,
   "metadata": {},
   "outputs": [],
   "source": [
    "def cost_plot(type, slope, scaler, xvals, optimal):\n",
    "    yvals = np.zeros(len(xvals))\n",
    "    if type==\"A\":\n",
    "        for i in range(len(xvals)):\n",
    "            if xvals[i] <= optimal:\n",
    "                yvals[i] = (slope/scaler) * (abs(xvals[i]-optimal))\n",
    "            else:\n",
    "                yvals[i] = -1\n",
    "    elif type==\"B\":\n",
    "        for i in range(len(xvals)):\n",
    "            if xvals[i] <= optimal:\n",
    "                yvals[i] = -1\n",
    "            else:\n",
    "                yvals[i] = (slope/scaler) * (xvals[i]-optimal)\n",
    "    return yvals"
   ]
  },
  {
   "attachments": {},
   "cell_type": "markdown",
   "metadata": {},
   "source": [
    "**Sampling 2Q Function**\n",
    "\n",
    "Given a row value, x and y values, a fitted model, the method of error, and the cost ratio of runway underutilization to the queueing cost, plots the optimal pushback interval, and returns a string listing the optimal value."
   ]
  },
  {
   "cell_type": "code",
   "execution_count": 84,
   "metadata": {},
   "outputs": [],
   "source": [
    "def twoQ_sampler(rowval, x, model, error, costratio):\n",
    "    if type(rowval) != int:\n",
    "        return \"Row Value error: enter an integer\"\n",
    "    else:\n",
    "        sample = x.iloc[rowval,:]\n",
    "        sampleMu = np.exp(model.predict(np.array(sample).reshape(1,-1)))\n",
    "        sampleSigma = error\n",
    "\n",
    "        costA = costratio\n",
    "        costB = 1\n",
    "        cumProb = (costB/(costA+costB))\n",
    "        T = lognorm.ppf(q=cumProb, scale=sampleMu, s=sampleSigma)\n",
    "        plotX = np.arange(0,30,0.01)\n",
    "\n",
    "        fig, ax = plt.subplots(1, 1, clear=True, figsize=(10,6))\n",
    "        ax.plot(plotX, lognorm.pdf(x=plotX, scale=sampleMu, s=sampleSigma), label=\"Lognormal Distribution of 2Q Taxi Times\")\n",
    "        ax.plot(plotX, cost_plot(\"A\", costA, 50, plotX, T), label=\"Runway Underutilization Cost\")\n",
    "        ax.plot(plotX, cost_plot(\"B\", costB, 50, plotX, T), label=\"Queueing Cost\")\n",
    "        ax.axvline(x=T, color='k', ymin=0, ls='--', label=\"Optimal Pushback Interval\")\n",
    "        ax.text(15,(max(lognorm.pdf(x=plotX, scale=sampleMu, s=sampleSigma))+0.05)/4, 'With the given optimal pushback interval, \\nthe optimal pushback rate is: \\n{} aircraft per 15 minutes'.format(round(15/T[0], 0)), style ='italic', fontsize = 12, horizontalalignment = \"center\", bbox ={'facecolor':'green','alpha':0.5, 'pad':10})\n",
    "        ax.set_title(\"'2Q' Distribution for Sample #{} from June EWR Test Data, with Cost Ratio = {}:{}\".format(rowval, costA,costB))\n",
    "        ax.legend(loc=\"upper right\")\n",
    "        ax.set_xlim(0,20)\n",
    "        ax.set_ylim(0,max(lognorm.pdf(x=plotX, scale=sampleMu, s=sampleSigma))+0.05)\n",
    "        ax.set_xlabel(\"Taxi Times (min)\")\n",
    "        fig.savefig(\"samplePlot.jpg\")\n",
    "        plt.show()\n",
    "\n",
    "    return \"Optimal pushback interval is {} minutes.\".format(round(T[0], 3))"
   ]
  },
  {
   "cell_type": "code",
   "execution_count": null,
   "metadata": {},
   "outputs": [],
   "source": []
  }
 ],
 "metadata": {
  "kernelspec": {
   "display_name": "base",
   "language": "python",
   "name": "python3"
  },
  "language_info": {
   "codemirror_mode": {
    "name": "ipython",
    "version": 3
   },
   "file_extension": ".py",
   "mimetype": "text/x-python",
   "name": "python",
   "nbconvert_exporter": "python",
   "pygments_lexer": "ipython3",
   "version": "3.8.8"
  },
  "orig_nbformat": 4
 },
 "nbformat": 4,
 "nbformat_minor": 2
}
