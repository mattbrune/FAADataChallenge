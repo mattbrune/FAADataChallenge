{
 "cells": [
  {
   "attachments": {},
   "cell_type": "markdown",
   "metadata": {},
   "source": [
    "# Taxi-Time Cleaning\n"
   ]
  },
  {
   "cell_type": "code",
   "execution_count": 4,
   "metadata": {},
   "outputs": [],
   "source": [
    "%run -i FAAHelpers.ipynb"
   ]
  },
  {
   "cell_type": "code",
   "execution_count": 5,
   "metadata": {},
   "outputs": [],
   "source": [
    "#imports\n",
    "import os\n",
    "import numpy as np\n",
    "import matplotlib.pyplot as plt\n",
    "import pandas as pd\n",
    "\n",
    "#loading in data\n",
    "iahtaxiDist = pd.read_excel(\"/Users/matthewbrune/Taxi-Time-GwDD/IAH_Lookups.xlsx\", sheet_name=\"Taxi\")\n",
    "iahgateLookup = pd.read_excel(\"/Users/matthewbrune/Taxi-Time-GwDD/IAH_Lookups.xlsx\", sheet_name=\"Gate\")\n",
    "iahweatherLookup = pd.read_excel(\"/Users/matthewbrune/Taxi-Time-GwDD/IAH_Lookups.xlsx\", sheet_name=\"Weather\")\n",
    "ewrtaxiDist = pd.read_excel(\"/Users/matthewbrune/Taxi-Time-GwDD/EWR_Lookups.xlsx\", sheet_name=\"Taxi\")\n",
    "ewrgateLookup = pd.read_excel(\"/Users/matthewbrune/Taxi-Time-GwDD/EWR_Lookups.xlsx\", sheet_name=\"Gate\")\n",
    "ewrweatherLookup = pd.read_excel(\"/Users/matthewbrune/Taxi-Time-GwDD/EWR_Lookups.xlsx\", sheet_name=\"Weather\")\n",
    "\n",
    "ewrJune = pd.read_csv(\"/Users/matthewbrune/Taxi-Time-GwDD/Aerobahn - EWR - 06 June 2022.csv\", header=6)\n",
    "iahJune = pd.read_csv(\"/Users/matthewbrune/Taxi-Time-GwDD/Aerobahn - IAH - 06 June 2022.csv\", header=6)\n",
    "july = pd.read_csv(\"/Users/matthewbrune/Taxi-Time-GwDD/Aerobahn - IAH - 07 July 2022.csv\", header=6)\n",
    "aug = pd.read_csv(\"/Users/matthewbrune/Taxi-Time-GwDD/Aerobahn - IAH - 08 August 2022.csv\", header=6)\n",
    "sept = pd.read_csv(\"/Users/matthewbrune/Taxi-Time-GwDD/Aerobahn - IAH - 09 September 2022.csv\", header=6)"
   ]
  },
  {
   "cell_type": "code",
   "execution_count": null,
   "metadata": {},
   "outputs": [],
   "source": [
    "#cleaning training and validation data\n",
    "xJuly, yJuly = taxi_time_clean(july, iahgateLookup, iahtaxiDist, iahweatherLookup)\n",
    "xAug, yAug = taxi_time_clean(aug, iahgateLookup, iahtaxiDist, iahweatherLookup)\n",
    "xSept, ySept = taxi_time_clean(sept, iahgateLookup, iahtaxiDist, iahweatherLookup)"
   ]
  },
  {
   "cell_type": "code",
   "execution_count": null,
   "metadata": {},
   "outputs": [],
   "source": [
    "#cleaning test data\n",
    "xJuneEWR, yJuneEWR = taxi_time_clean(ewrJune, ewrgateLookup, ewrtaxiDist, ewrweatherLookup)\n",
    "xJuneIAH, yJuneIAH = taxi_time_clean(iahJune, iahgateLookup, iahtaxiDist, iahweatherLookup)"
   ]
  },
  {
   "cell_type": "code",
   "execution_count": null,
   "metadata": {},
   "outputs": [],
   "source": [
    "#exports \n",
    "xJuly.to_csv('xJuly.csv', index=False)\n",
    "xAug.to_csv('xAug.csv', index=False)\n",
    "xSept.to_csv('xSept.csv', index=False)\n",
    "xJuneEWR.to_csv('xJuneEWR.csv', index=False)\n",
    "xJuneIAH.to_csv('xJuneIAH.csv', index=False)\n",
    "\n",
    "yJuly.to_csv('yJuly.csv', index=False)\n",
    "yAug.to_csv('yAug.csv', index=False)\n",
    "ySept.to_csv('ySept.csv', index=False)\n",
    "yJuneEWR.to_csv('yJuneEWR.csv', index=False)\n",
    "yJuneIAH.to_csv('yJuneIAH.csv', index=False)\n"
   ]
  }
 ],
 "metadata": {
  "kernelspec": {
   "display_name": "base",
   "language": "python",
   "name": "python3"
  },
  "language_info": {
   "codemirror_mode": {
    "name": "ipython",
    "version": 3
   },
   "file_extension": ".py",
   "mimetype": "text/x-python",
   "name": "python",
   "nbconvert_exporter": "python",
   "pygments_lexer": "ipython3",
   "version": "3.8.8"
  },
  "orig_nbformat": 4,
  "vscode": {
   "interpreter": {
    "hash": "54c9b1e4a3bfc1a51848667d03008376cc1d3527c5838d897035c7b554390fc2"
   }
  }
 },
 "nbformat": 4,
 "nbformat_minor": 2
}
